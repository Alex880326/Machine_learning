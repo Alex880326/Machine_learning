{
  "nbformat": 4,
  "nbformat_minor": 0,
  "metadata": {
    "colab": {
      "provenance": [],
      "authorship_tag": "ABX9TyPuJrSFf74Kw3eZsEORy1t/",
      "include_colab_link": true
    },
    "kernelspec": {
      "name": "python3",
      "display_name": "Python 3"
    },
    "language_info": {
      "name": "python"
    }
  },
  "cells": [
    {
      "cell_type": "markdown",
      "metadata": {
        "id": "view-in-github",
        "colab_type": "text"
      },
      "source": [
        "<a href=\"https://colab.research.google.com/github/Alex880326/Machine_learning/blob/main/Machine_learn_1.ipynb\" target=\"_parent\"><img src=\"https://colab.research.google.com/assets/colab-badge.svg\" alt=\"Open In Colab\"/></a>"
      ]
    },
    {
      "cell_type": "code",
      "execution_count": null,
      "metadata": {
        "id": "wMGeVJZQLYwT"
      },
      "outputs": [],
      "source": [
        "from sklearn import datasets\n",
        "brest_cancer_dataaset = datasets.load_breast_cancer()"
      ]
    },
    {
      "cell_type": "code",
      "source": [
        "import numpy as np\n",
        "actual_values = np.array([100, 150, 200, 250])\n",
        "predicted_values = np.array([90, 140, 180, 270])\n",
        "mae = (np.mean(np.abs(actual_values - predicted_values)))\n",
        "print(\"MAE\", mae)"
      ],
      "metadata": {
        "colab": {
          "base_uri": "https://localhost:8080/"
        },
        "id": "wDxAxU60MyKf",
        "outputId": "67100149-0c87-4412-8e7f-c4821c3562f2"
      },
      "execution_count": null,
      "outputs": [
        {
          "output_type": "stream",
          "name": "stdout",
          "text": [
            "MAE 15.0\n"
          ]
        }
      ]
    },
    {
      "cell_type": "code",
      "source": [
        "import numpy as np\n",
        "actual_values = np.array([100, 150, 200, 250])\n",
        "predicted_values = np.array([90, 140, 180, 270])\n",
        "mse = (np.mean((actual_values - predicted_values)**2))\n",
        "print(\"MSE\", mse)"
      ],
      "metadata": {
        "colab": {
          "base_uri": "https://localhost:8080/"
        },
        "id": "nfpX7t0sN4NN",
        "outputId": "fa2990a1-3961-4784-a92d-829f172e54af"
      },
      "execution_count": null,
      "outputs": [
        {
          "output_type": "stream",
          "name": "stdout",
          "text": [
            "MSE 250.0\n"
          ]
        }
      ]
    },
    {
      "cell_type": "code",
      "source": [
        "from google.colab import drive\n",
        "drive.mount('/content/drive')"
      ],
      "metadata": {
        "id": "4wFR_-lopX0I"
      },
      "execution_count": null,
      "outputs": []
    },
    {
      "cell_type": "markdown",
      "source": [
        "В нашем случае значения MSE и MAE указывают на то, что модель имеет определенные отклонения от фактических значений. Чтобы улучшить точность предсказаний, можно рассмотреть возможность использования более сложных моделей, настройки гиперпараметров или улучшения качества данных."
      ],
      "metadata": {
        "id": "Ku3Psm6SpRyg"
      }
    },
    {
      "cell_type": "code",
      "source": [],
      "metadata": {
        "id": "7i3m9ux7PoZF"
      },
      "execution_count": null,
      "outputs": []
    }
  ]
}